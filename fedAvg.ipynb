{
  "nbformat": 4,
  "nbformat_minor": 0,
  "metadata": {
    "colab": {
      "provenance": [],
      "gpuType": "T4",
      "authorship_tag": "ABX9TyPx7+Zlx6EEFJVlnSRiqyHS",
      "include_colab_link": true
    },
    "kernelspec": {
      "name": "python3",
      "display_name": "Python 3"
    },
    "language_info": {
      "name": "python"
    },
    "accelerator": "GPU"
  },
  "cells": [
    {
      "cell_type": "markdown",
      "metadata": {
        "id": "view-in-github",
        "colab_type": "text"
      },
      "source": [
        "<a href=\"https://colab.research.google.com/github/thegith45/Decentralized-learning/blob/main/fedAvg.ipynb\" target=\"_parent\"><img src=\"https://colab.research.google.com/assets/colab-badge.svg\" alt=\"Open In Colab\"/></a>"
      ]
    },
    {
      "cell_type": "code",
      "source": [
        "import torch\n",
        "import torch.nn as nn\n",
        "import torch.optim as optim\n",
        "from torchvision import datasets, transforms\n",
        "from torch.utils.data import DataLoader, Dataset, Subset\n",
        "import numpy as np\n",
        "import random\n"
      ],
      "metadata": {
        "id": "HoJg_jSVd387"
      },
      "execution_count": 1,
      "outputs": []
    },
    {
      "cell_type": "code",
      "source": [
        "def load_mnist():\n",
        "    transform = transforms.Compose([transforms.ToTensor()])\n",
        "    trainset = datasets.MNIST(root='./data', train=True, download=True, transform=transform)\n",
        "    testset = datasets.MNIST(root='./data', train=False, download=True, transform=transform)\n",
        "    return trainset, testset\n"
      ],
      "metadata": {
        "id": "4J5RIxjSeIXG"
      },
      "execution_count": 9,
      "outputs": []
    },
    {
      "cell_type": "code",
      "source": [
        "def iid_partition_with_val(dataset, num_clients, val_ratio=0.1):\n",
        "    data_size = len(dataset) // num_clients\n",
        "    indices = list(range(len(dataset)))\n",
        "    random.shuffle(indices)\n",
        "\n",
        "    client_train_idxs = []\n",
        "    client_val_idxs = []\n",
        "\n",
        "    for i in range(num_clients):\n",
        "        client_data = indices[i * data_size : (i + 1) * data_size]\n",
        "        val_len = int(len(client_data) * val_ratio)\n",
        "        val_idx = client_data[:val_len]\n",
        "        train_idx = client_data[val_len:]\n",
        "        client_train_idxs.append(train_idx)\n",
        "        client_val_idxs.append(val_idx)\n",
        "\n",
        "    return client_train_idxs, client_val_idxs\n"
      ],
      "metadata": {
        "id": "VYWWGmNOeIxC"
      },
      "execution_count": 10,
      "outputs": []
    },
    {
      "cell_type": "code",
      "source": [
        "class CNN(nn.Module):\n",
        "    def __init__(self):\n",
        "        super(CNN, self).__init__()\n",
        "        self.network = nn.Sequential(\n",
        "            nn.Conv2d(1, 32, kernel_size=5, padding=2),\n",
        "            nn.ReLU(),\n",
        "            nn.MaxPool2d(2),\n",
        "            nn.Conv2d(32, 64, kernel_size=5, padding=2),\n",
        "            nn.ReLU(),\n",
        "            nn.MaxPool2d(2),\n",
        "            nn.Flatten(),\n",
        "            nn.Linear(7*7*64, 512),\n",
        "            nn.ReLU(),\n",
        "            nn.Linear(512, 10)\n",
        "        )\n",
        "\n",
        "    def forward(self, x):\n",
        "        return self.network(x)\n"
      ],
      "metadata": {
        "id": "g4Xwt25viNVp"
      },
      "execution_count": 11,
      "outputs": []
    },
    {
      "cell_type": "code",
      "source": [
        "class Client:\n",
        "    def __init__(self, model, dataset, train_indices, val_indices, device):\n",
        "        self.device = device\n",
        "        self.model = CNN().to(device)\n",
        "        self.model.load_state_dict(model.state_dict())\n",
        "        self.train_loader = DataLoader(Subset(dataset, train_indices), batch_size=32, shuffle=True)\n",
        "        self.val_loader = DataLoader(Subset(dataset, val_indices), batch_size=64, shuffle=False)\n",
        "\n",
        "    def train(self, epochs, lr):\n",
        "        optimizer = optim.SGD(self.model.parameters(), lr=lr)\n",
        "        criterion = nn.CrossEntropyLoss()\n",
        "        self.model.train()\n",
        "        for _ in range(epochs):\n",
        "            for data, target in self.train_loader:\n",
        "                data, target = data.to(self.device), target.to(self.device)\n",
        "                optimizer.zero_grad()\n",
        "                output = self.model(data)\n",
        "                loss = criterion(output, target)\n",
        "                loss.backward()\n",
        "                optimizer.step()\n",
        "        return self.model.state_dict()\n",
        "\n",
        "    def validate(self):\n",
        "        self.model.eval()\n",
        "        correct = 0\n",
        "        total = 0\n",
        "        with torch.no_grad():\n",
        "            for data, target in self.val_loader:\n",
        "                data, target = data.to(self.device), target.to(self.device)\n",
        "                output = self.model(data)\n",
        "                pred = output.argmax(dim=1, keepdim=True)\n",
        "                correct += pred.eq(target.view_as(pred)).sum().item()\n",
        "                total += target.size(0)\n",
        "        return 100.0 * correct / total\n"
      ],
      "metadata": {
        "id": "ZbiIqKSKeI0T"
      },
      "execution_count": 12,
      "outputs": []
    },
    {
      "cell_type": "code",
      "source": [
        "def federated_average(models):\n",
        "    avg_model = models[0].copy()\n",
        "    for key in avg_model:\n",
        "        for i in range(1, len(models)):\n",
        "            avg_model[key] += models[i][key]\n",
        "        avg_model[key] = torch.div(avg_model[key], len(models))\n",
        "    return avg_model\n"
      ],
      "metadata": {
        "id": "U4rjXPcxejSl"
      },
      "execution_count": 13,
      "outputs": []
    },
    {
      "cell_type": "code",
      "source": [
        "def evaluate(model, test_loader, device):\n",
        "    model.eval()\n",
        "    correct = 0\n",
        "    total = 0\n",
        "    with torch.no_grad():\n",
        "        for data, target in test_loader:\n",
        "            data, target = data.to(device), target.to(device)\n",
        "            output = model(data)\n",
        "            pred = output.argmax(dim=1, keepdim=True)\n",
        "            correct += pred.eq(target.view_as(pred)).sum().item()\n",
        "            total += target.size(0)\n",
        "    return 100.0 * correct / total\n"
      ],
      "metadata": {
        "id": "7dGJUZn8emal"
      },
      "execution_count": 14,
      "outputs": []
    },
    {
      "cell_type": "code",
      "source": [
        "def federated_training(num_clients=10, rounds=20, frac=0.5, local_epochs=1, lr=0.01):\n",
        "    device = torch.device(\"cuda\" if torch.cuda.is_available() else \"cpu\")\n",
        "    global_model = CNN().to(device)\n",
        "    trainset, testset = load_mnist()\n",
        "    client_train_idxs, client_val_idxs = iid_partition_with_val(trainset, num_clients)\n",
        "    test_loader = DataLoader(testset, batch_size=128, shuffle=False)\n",
        "\n",
        "    val_accuracies = []\n",
        "    test_accuracies = []\n",
        "\n",
        "    for r in range(rounds):\n",
        "        selected_clients = np.random.choice(num_clients, int(num_clients * frac), replace=False)\n",
        "        local_models = []\n",
        "        local_val_scores = []\n",
        "\n",
        "        for i in selected_clients:\n",
        "            client = Client(global_model, trainset, client_train_idxs[i], client_val_idxs[i], device)\n",
        "            local_weights = client.train(local_epochs, lr)\n",
        "            local_models.append(local_weights)\n",
        "            local_val_scores.append(client.validate())\n",
        "\n",
        "        averaged_weights = federated_average(local_models)\n",
        "        global_model.load_state_dict(averaged_weights)\n",
        "\n",
        "        val_acc = np.mean(local_val_scores)\n",
        "        test_acc = evaluate(global_model, test_loader, device)\n",
        "        val_accuracies.append(val_acc)\n",
        "        test_accuracies.append(test_acc)\n",
        "\n",
        "        print(f\"Round {r+1} | Validation Accuracy: {val_acc:.2f}% | Test Accuracy: {test_acc:.2f}%\")\n",
        "\n",
        "    return global_model, val_accuracies, test_accuracies\n"
      ],
      "metadata": {
        "id": "AKq7ED84emdY"
      },
      "execution_count": 16,
      "outputs": []
    },
    {
      "cell_type": "code",
      "source": [
        "model, val_accs, test_accs = federated_training(\n",
        "    num_clients=10,\n",
        "    rounds=20,\n",
        "    frac=0.5,\n",
        "    local_epochs=5,\n",
        "    lr=0.01\n",
        ")\n",
        "\n",
        "# Plot\n",
        "plt.plot(val_accs, label='Validation Accuracy')\n",
        "plt.plot(test_accs, label='Test Accuracy')\n",
        "plt.xlabel('Communication Rounds')\n",
        "plt.ylabel('Accuracy (%)')\n",
        "plt.title('FedAvg on MNIST')\n",
        "plt.legend()\n",
        "plt.grid()\n",
        "plt.show()\n"
      ],
      "metadata": {
        "colab": {
          "base_uri": "https://localhost:8080/",
          "height": 558
        },
        "id": "aiUi7Hqbemg1",
        "outputId": "1d4d4440-33e9-475c-a232-92d59f5e3f17"
      },
      "execution_count": 17,
      "outputs": [
        {
          "output_type": "stream",
          "name": "stdout",
          "text": [
            "Round 1 | Validation Accuracy: 89.57% | Test Accuracy: 91.56%\n",
            "Round 2 | Validation Accuracy: 93.17% | Test Accuracy: 95.02%\n",
            "Round 3 | Validation Accuracy: 95.20% | Test Accuracy: 96.35%\n",
            "Round 4 | Validation Accuracy: 96.30% | Test Accuracy: 97.10%\n",
            "Round 5 | Validation Accuracy: 96.80% | Test Accuracy: 97.58%\n",
            "Round 6 | Validation Accuracy: 97.10% | Test Accuracy: 97.85%\n",
            "Round 7 | Validation Accuracy: 97.20% | Test Accuracy: 97.93%\n",
            "Round 8 | Validation Accuracy: 96.87% | Test Accuracy: 98.20%\n",
            "Round 9 | Validation Accuracy: 97.43% | Test Accuracy: 98.40%\n",
            "Round 10 | Validation Accuracy: 97.73% | Test Accuracy: 98.53%\n",
            "Round 11 | Validation Accuracy: 98.07% | Test Accuracy: 98.40%\n",
            "Round 12 | Validation Accuracy: 98.00% | Test Accuracy: 98.52%\n",
            "Round 13 | Validation Accuracy: 97.90% | Test Accuracy: 98.55%\n",
            "Round 14 | Validation Accuracy: 98.33% | Test Accuracy: 98.53%\n",
            "Round 15 | Validation Accuracy: 98.00% | Test Accuracy: 98.63%\n",
            "Round 16 | Validation Accuracy: 97.77% | Test Accuracy: 98.70%\n",
            "Round 17 | Validation Accuracy: 98.17% | Test Accuracy: 98.67%\n",
            "Round 18 | Validation Accuracy: 97.87% | Test Accuracy: 98.68%\n",
            "Round 19 | Validation Accuracy: 98.10% | Test Accuracy: 98.84%\n",
            "Round 20 | Validation Accuracy: 98.07% | Test Accuracy: 98.79%\n"
          ]
        },
        {
          "output_type": "error",
          "ename": "NameError",
          "evalue": "name 'plt' is not defined",
          "traceback": [
            "\u001b[0;31m---------------------------------------------------------------------------\u001b[0m",
            "\u001b[0;31mNameError\u001b[0m                                 Traceback (most recent call last)",
            "\u001b[0;32m/tmp/ipython-input-2690543488.py\u001b[0m in \u001b[0;36m<cell line: 0>\u001b[0;34m()\u001b[0m\n\u001b[1;32m      8\u001b[0m \u001b[0;34m\u001b[0m\u001b[0m\n\u001b[1;32m      9\u001b[0m \u001b[0;31m# Plot\u001b[0m\u001b[0;34m\u001b[0m\u001b[0;34m\u001b[0m\u001b[0m\n\u001b[0;32m---> 10\u001b[0;31m \u001b[0mplt\u001b[0m\u001b[0;34m.\u001b[0m\u001b[0mplot\u001b[0m\u001b[0;34m(\u001b[0m\u001b[0mval_accs\u001b[0m\u001b[0;34m,\u001b[0m \u001b[0mlabel\u001b[0m\u001b[0;34m=\u001b[0m\u001b[0;34m'Validation Accuracy'\u001b[0m\u001b[0;34m)\u001b[0m\u001b[0;34m\u001b[0m\u001b[0;34m\u001b[0m\u001b[0m\n\u001b[0m\u001b[1;32m     11\u001b[0m \u001b[0mplt\u001b[0m\u001b[0;34m.\u001b[0m\u001b[0mplot\u001b[0m\u001b[0;34m(\u001b[0m\u001b[0mtest_accs\u001b[0m\u001b[0;34m,\u001b[0m \u001b[0mlabel\u001b[0m\u001b[0;34m=\u001b[0m\u001b[0;34m'Test Accuracy'\u001b[0m\u001b[0;34m)\u001b[0m\u001b[0;34m\u001b[0m\u001b[0;34m\u001b[0m\u001b[0m\n\u001b[1;32m     12\u001b[0m \u001b[0mplt\u001b[0m\u001b[0;34m.\u001b[0m\u001b[0mxlabel\u001b[0m\u001b[0;34m(\u001b[0m\u001b[0;34m'Communication Rounds'\u001b[0m\u001b[0;34m)\u001b[0m\u001b[0;34m\u001b[0m\u001b[0;34m\u001b[0m\u001b[0m\n",
            "\u001b[0;31mNameError\u001b[0m: name 'plt' is not defined"
          ]
        }
      ]
    }
  ]
}