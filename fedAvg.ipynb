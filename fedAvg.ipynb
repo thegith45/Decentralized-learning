{
  "nbformat": 4,
  "nbformat_minor": 0,
  "metadata": {
    "colab": {
      "provenance": [],
      "gpuType": "T4",
      "authorship_tag": "ABX9TyOFZrEI5/j8470SG+mLIFls",
      "include_colab_link": true
    },
    "kernelspec": {
      "name": "python3",
      "display_name": "Python 3"
    },
    "language_info": {
      "name": "python"
    },
    "accelerator": "GPU"
  },
  "cells": [
    {
      "cell_type": "markdown",
      "metadata": {
        "id": "view-in-github",
        "colab_type": "text"
      },
      "source": [
        "<a href=\"https://colab.research.google.com/github/thegith45/Decentralized-learning/blob/main/fedAvg.ipynb\" target=\"_parent\"><img src=\"https://colab.research.google.com/assets/colab-badge.svg\" alt=\"Open In Colab\"/></a>"
      ]
    },
    {
      "cell_type": "code",
      "source": [
        "import torch\n",
        "import torch.nn as nn\n",
        "import torch.optim as optim\n",
        "from torchvision import datasets, transforms\n",
        "from torch.utils.data import DataLoader, Dataset, Subset\n",
        "import numpy as np\n",
        "import random\n"
      ],
      "metadata": {
        "id": "HoJg_jSVd387"
      },
      "execution_count": 1,
      "outputs": []
    },
    {
      "cell_type": "code",
      "source": [
        "def load_mnist():\n",
        "    transform = transforms.Compose([transforms.ToTensor()])\n",
        "    trainset = datasets.MNIST(root='./data', train=True, download=True, transform=transform)\n",
        "    testset = datasets.MNIST(root='./data', train=False, download=True, transform=transform)\n",
        "    return trainset, testset\n"
      ],
      "metadata": {
        "id": "4J5RIxjSeIXG"
      },
      "execution_count": 2,
      "outputs": []
    },
    {
      "cell_type": "code",
      "source": [
        "def iid_partition_with_val(dataset, num_clients, val_ratio=0.1):\n",
        "    data_size = len(dataset) // num_clients\n",
        "    indices = list(range(len(dataset)))\n",
        "    random.shuffle(indices)\n",
        "\n",
        "    client_train_idxs = []\n",
        "    client_val_idxs = []\n",
        "\n",
        "    for i in range(num_clients):\n",
        "        client_data = indices[i * data_size : (i + 1) * data_size]\n",
        "        val_len = int(len(client_data) * val_ratio)\n",
        "        val_idx = client_data[:val_len]\n",
        "        train_idx = client_data[val_len:]\n",
        "        client_train_idxs.append(train_idx)\n",
        "        client_val_idxs.append(val_idx)\n",
        "\n",
        "    return client_train_idxs, client_val_idxs\n"
      ],
      "metadata": {
        "id": "VYWWGmNOeIxC"
      },
      "execution_count": 3,
      "outputs": []
    },
    {
      "cell_type": "code",
      "source": [
        "class CNN(nn.Module):\n",
        "    def __init__(self):\n",
        "        super(CNN, self).__init__()\n",
        "        self.network = nn.Sequential(\n",
        "            nn.Conv2d(1, 32, kernel_size=5, padding=2),\n",
        "            nn.ReLU(),\n",
        "            nn.MaxPool2d(2),\n",
        "            nn.Conv2d(32, 64, kernel_size=5, padding=2),\n",
        "            nn.ReLU(),\n",
        "            nn.MaxPool2d(2),\n",
        "            nn.Flatten(),\n",
        "            nn.Linear(7*7*64, 512),\n",
        "            nn.ReLU(),\n",
        "            nn.Linear(512, 10)\n",
        "        )\n",
        "\n",
        "    def forward(self, x):\n",
        "        return self.network(x)\n"
      ],
      "metadata": {
        "id": "g4Xwt25viNVp"
      },
      "execution_count": 4,
      "outputs": []
    },
    {
      "cell_type": "code",
      "source": [
        "class Client:\n",
        "    def __init__(self, model, dataset, train_indices, val_indices, device):\n",
        "        self.device = device\n",
        "        self.model = CNN().to(device)\n",
        "        self.model.load_state_dict(model.state_dict())\n",
        "        self.train_loader = DataLoader(Subset(dataset, train_indices), batch_size=32, shuffle=True)\n",
        "        self.val_loader = DataLoader(Subset(dataset, val_indices), batch_size=64, shuffle=False)\n",
        "\n",
        "    def train(self, epochs, lr):\n",
        "        optimizer = optim.SGD(self.model.parameters(), lr=lr)\n",
        "        criterion = nn.CrossEntropyLoss()\n",
        "        self.model.train()\n",
        "        for _ in range(epochs):\n",
        "            for data, target in self.train_loader:\n",
        "                data, target = data.to(self.device), target.to(self.device)\n",
        "                optimizer.zero_grad()\n",
        "                output = self.model(data)\n",
        "                loss = criterion(output, target)\n",
        "                loss.backward()\n",
        "                optimizer.step()\n",
        "        return self.model.state_dict()\n",
        "\n",
        "    def validate(self):\n",
        "        self.model.eval()\n",
        "        correct = 0\n",
        "        total = 0\n",
        "        with torch.no_grad():\n",
        "            for data, target in self.val_loader:\n",
        "                data, target = data.to(self.device), target.to(self.device)\n",
        "                output = self.model(data)\n",
        "                pred = output.argmax(dim=1, keepdim=True)\n",
        "                correct += pred.eq(target.view_as(pred)).sum().item()\n",
        "                total += target.size(0)\n",
        "        return 100.0 * correct / total\n"
      ],
      "metadata": {
        "id": "ZbiIqKSKeI0T"
      },
      "execution_count": 5,
      "outputs": []
    },
    {
      "cell_type": "code",
      "source": [
        "def federated_average(models):\n",
        "    avg_model = models[0].copy()\n",
        "    for key in avg_model:\n",
        "        for i in range(1, len(models)):\n",
        "            avg_model[key] += models[i][key]\n",
        "        avg_model[key] = torch.div(avg_model[key], len(models))\n",
        "    return avg_model\n"
      ],
      "metadata": {
        "id": "U4rjXPcxejSl"
      },
      "execution_count": 6,
      "outputs": []
    },
    {
      "cell_type": "code",
      "source": [
        "def evaluate(model, test_loader, device):\n",
        "    model.eval()\n",
        "    correct = 0\n",
        "    total = 0\n",
        "    with torch.no_grad():\n",
        "        for data, target in test_loader:\n",
        "            data, target = data.to(device), target.to(device)\n",
        "            output = model(data)\n",
        "            pred = output.argmax(dim=1, keepdim=True)\n",
        "            correct += pred.eq(target.view_as(pred)).sum().item()\n",
        "            total += target.size(0)\n",
        "    return 100.0 * correct / total\n"
      ],
      "metadata": {
        "id": "7dGJUZn8emal"
      },
      "execution_count": 7,
      "outputs": []
    },
    {
      "cell_type": "code",
      "source": [
        "def federated_training(num_clients=10, rounds=20, frac=0.5, local_epochs=1, lr=0.01):\n",
        "    device = torch.device(\"cuda\" if torch.cuda.is_available() else \"cpu\")\n",
        "    global_model = CNN().to(device)\n",
        "    trainset, testset = load_mnist()\n",
        "    client_train_idxs, client_val_idxs = iid_partition_with_val(trainset, num_clients)\n",
        "    test_loader = DataLoader(testset, batch_size=128, shuffle=False)\n",
        "\n",
        "    val_accuracies = []\n",
        "    test_accuracies = []\n",
        "\n",
        "    for r in range(rounds):\n",
        "        selected_clients = np.random.choice(num_clients, int(num_clients * frac), replace=False)\n",
        "        local_models = []\n",
        "        local_val_scores = []\n",
        "\n",
        "        for i in selected_clients:\n",
        "            client = Client(global_model, trainset, client_train_idxs[i], client_val_idxs[i], device)\n",
        "            local_weights = client.train(local_epochs, lr)\n",
        "            local_models.append(local_weights)\n",
        "            local_val_scores.append(client.validate())\n",
        "\n",
        "        averaged_weights = federated_average(local_models)\n",
        "        global_model.load_state_dict(averaged_weights)\n",
        "\n",
        "        val_acc = np.mean(local_val_scores)\n",
        "        test_acc = evaluate(global_model, test_loader, device)\n",
        "        val_accuracies.append(val_acc)\n",
        "        test_accuracies.append(test_acc)\n",
        "\n",
        "        print(f\"Round {r+1} | Validation Accuracy: {val_acc:.2f}% | Test Accuracy: {test_acc:.2f}%\")\n",
        "\n",
        "    return global_model, val_accuracies, test_accuracies\n"
      ],
      "metadata": {
        "id": "AKq7ED84emdY"
      },
      "execution_count": 8,
      "outputs": []
    },
    {
      "cell_type": "code",
      "source": [
        "import matplotlib.pyplot as plt\n",
        "\n",
        "\n",
        "model, val_accs, test_accs = federated_training(\n",
        "    num_clients=10,\n",
        "    rounds=20,\n",
        "    frac=0.5,\n",
        "    local_epochs=5,\n",
        "    lr=0.01\n",
        ")\n",
        "\n",
        "# Plot\n",
        "plt.plot(val_accs, label='Validation Accuracy')\n",
        "plt.plot(test_accs, label='Test Accuracy')\n",
        "plt.xlabel('Communication Rounds')\n",
        "plt.ylabel('Accuracy (%)')\n",
        "plt.title('FedAvg on MNIST')\n",
        "plt.legend()\n",
        "plt.grid()\n",
        "plt.show()\n"
      ],
      "metadata": {
        "colab": {
          "base_uri": "https://localhost:8080/",
          "height": 889
        },
        "id": "aiUi7Hqbemg1",
        "outputId": "66038596-fa3b-4217-ae45-f32fab48301d"
      },
      "execution_count": 9,
      "outputs": [
        {
          "output_type": "stream",
          "name": "stderr",
          "text": [
            "100%|██████████| 9.91M/9.91M [00:01<00:00, 5.09MB/s]\n",
            "100%|██████████| 28.9k/28.9k [00:00<00:00, 134kB/s]\n",
            "100%|██████████| 1.65M/1.65M [00:01<00:00, 1.27MB/s]\n",
            "100%|██████████| 4.54k/4.54k [00:00<00:00, 7.27MB/s]\n"
          ]
        },
        {
          "output_type": "stream",
          "name": "stdout",
          "text": [
            "Round 1 | Validation Accuracy: 85.60% | Test Accuracy: 91.23%\n",
            "Round 2 | Validation Accuracy: 93.23% | Test Accuracy: 94.42%\n",
            "Round 3 | Validation Accuracy: 95.50% | Test Accuracy: 96.30%\n",
            "Round 4 | Validation Accuracy: 95.60% | Test Accuracy: 96.98%\n",
            "Round 5 | Validation Accuracy: 96.40% | Test Accuracy: 97.58%\n",
            "Round 6 | Validation Accuracy: 97.23% | Test Accuracy: 97.95%\n",
            "Round 7 | Validation Accuracy: 97.33% | Test Accuracy: 97.98%\n",
            "Round 8 | Validation Accuracy: 97.43% | Test Accuracy: 98.18%\n",
            "Round 9 | Validation Accuracy: 97.30% | Test Accuracy: 98.21%\n",
            "Round 10 | Validation Accuracy: 97.93% | Test Accuracy: 98.39%\n",
            "Round 11 | Validation Accuracy: 97.53% | Test Accuracy: 98.31%\n",
            "Round 12 | Validation Accuracy: 98.00% | Test Accuracy: 98.49%\n",
            "Round 13 | Validation Accuracy: 97.93% | Test Accuracy: 98.56%\n",
            "Round 14 | Validation Accuracy: 98.23% | Test Accuracy: 98.59%\n",
            "Round 15 | Validation Accuracy: 98.03% | Test Accuracy: 98.61%\n",
            "Round 16 | Validation Accuracy: 97.70% | Test Accuracy: 98.66%\n",
            "Round 17 | Validation Accuracy: 98.50% | Test Accuracy: 98.71%\n",
            "Round 18 | Validation Accuracy: 98.07% | Test Accuracy: 98.79%\n",
            "Round 19 | Validation Accuracy: 98.30% | Test Accuracy: 98.86%\n",
            "Round 20 | Validation Accuracy: 98.33% | Test Accuracy: 98.81%\n"
          ]
        },
        {
          "output_type": "display_data",
          "data": {
            "text/plain": [
              "<Figure size 640x480 with 1 Axes>"
            ],
            "image/png": "[encoded data removed]"
          },
          "metadata": {}
        }
      ]
    }
  ]
}